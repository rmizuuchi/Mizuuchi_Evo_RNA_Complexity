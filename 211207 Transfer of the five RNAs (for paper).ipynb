{
 "cells": [
  {
   "cell_type": "code",
   "execution_count": 17,
   "metadata": {},
   "outputs": [],
   "source": [
    "# -*- coding: utf-8 -*-\n",
    "import numpy as np\n",
    "from matplotlib import pyplot as plt\n",
    "from math import *\n",
    "import seaborn as sns\n",
    "from scipy.integrate import odeint\n",
    "import numba\n",
    "from numba import jit,complex128\n",
    "import time\n",
    "import random\n",
    "mylen = np.vectorize(len)\n",
    "%matplotlib inline"
   ]
  },
  {
   "cell_type": "code",
   "execution_count": 2,
   "metadata": {},
   "outputs": [],
   "source": [
    "#For Figs. 5b and S21 in the paper \n",
    "#\"Evolutionary transition from a single RNA replicator to a multiple replicator network\""
   ]
  },
  {
   "cell_type": "code",
   "execution_count": 18,
   "metadata": {
    "code_folding": [
     2,
     13,
     18,
     26
    ]
   },
   "outputs": [],
   "source": [
    "#Replication\n",
    "@jit(locals=dict(c=complex128, z=complex128)) #faster than Cython \n",
    "def replication_five_member(v0, t, k1s, k2s, k3s, k4s, k5s, Cn):\n",
    "    dv = np.empty_like(v0)\n",
    "    Capacity = (1-(v0[0]+v0[1]+v0[2]+v0[3]+v0[4])/Cn)\n",
    "    dv[0]=v0[0]*(k1s[0]*v0[0] + k2s[0]*v0[1] + k3s[0]*v0[2] + k4s[0]*v0[3]+ k5s[0]*v0[4])*Capacity\n",
    "    dv[1]=v0[1]*(k1s[1]*v0[0] + k2s[1]*v0[1] + k3s[1]*v0[2] + k4s[1]*v0[3]+ k5s[1]*v0[4])*Capacity\n",
    "    dv[2]=v0[2]*(k1s[2]*v0[0] + k2s[2]*v0[1] + k3s[2]*v0[2] + k4s[2]*v0[3]+ k5s[2]*v0[4])*Capacity\n",
    "    dv[3]=v0[3]*(k1s[3]*v0[0] + k2s[3]*v0[1] + k3s[3]*v0[2] + k4s[3]*v0[3]+ k5s[3]*v0[4])*Capacity\n",
    "    dv[4]=v0[4]*(k1s[4]*v0[0] + k2s[4]*v0[1] + k3s[4]*v0[2] + k4s[4]*v0[3]+ k5s[4]*v0[4])*Capacity\n",
    "    return dv\n",
    "\n",
    "#Initial concentrations\n",
    "def initial(M,H1i,H2i,H3i,P1i,P2i):\n",
    "    comps = np.vstack([np.random.poisson(RNAi/float(M),M) for RNAi in [H1i,H2i,H3i,P1i,P2i]]) \n",
    "    return comps\n",
    "\n",
    "#Dilution\n",
    "def dilution(D,M,comps):\n",
    "    np.random.shuffle(comps.T) #Randomization\n",
    "    comps= comps[:,:int(M/D)] #Dilution\n",
    "    newcomps = np.vstack([np.zeros(M-int(M/D)) for i in range(5)]) #New compartments\n",
    "    comps = np.hstack([comps, newcomps]) #Combine\n",
    "    return comps\n",
    "\n",
    "#Repartition (Fusion-division)\n",
    "def repartition(Fnumber, comps):\n",
    "    X = list(range(M))\n",
    "    ids = [random.sample(X, 2) for i in range(Fnumber)] #randomly choose two compartments x F sets\n",
    "    for i in ids:\n",
    "        p,q = i[0],i[1]\n",
    "        if np.sum(comps[:,p]+comps[:,q])>0: #Other than a set of vacant compartments\n",
    "            fuse = (comps[:,p] + comps[:,q]).astype(np.int32) #Fusion\n",
    "            comps[0,p], comps[1,p], comps[2,p], comps[3,p], comps[4,p] = \\\n",
    "                np.random.binomial(fuse[0],0.5),np.random.binomial(fuse[1],0.5), np.random.binomial(fuse[2],0.5),\\\n",
    "                np.random.binomial(fuse[3],0.5), np.random.binomial(fuse[4],0.5) #Division \n",
    "            comps[:,q] = fuse - comps[:,p]\n",
    "    return comps"
   ]
  },
  {
   "cell_type": "code",
   "execution_count": 19,
   "metadata": {
    "code_folding": []
   },
   "outputs": [],
   "source": [
    "#Serial transfer\n",
    "kij = np.loadtxt('211017.csv', delimiter=',') #Fig. S23\n",
    "k1s, k2s, k3s, k4s, k5s = kij[0], kij[1], kij[2], kij[3], kij[4] \n",
    "Round=100\n",
    "M=300\n",
    "Cn = 300 #C in the paper\n",
    "D=5\n",
    "Fnumber=int(M*1.3) #F in the paper\n",
    "reaction_time = 2\n",
    "IDs = np.array(['H1','H2','H3','P1','P2']) #each corresponds to HL1, HL2, HL3, PL2, and PL3\n",
    "t = np.linspace(0, reaction_time, 2) \n",
    "\n",
    "for X in range(1):\n",
    "    [H1i,H2i,H3i,P1i,P2i]=[M*10,M*10,M*10,M*10,M*10]\n",
    "    H1s,H2s,H3s,P1s,P2s = [H1i],[H2i],[H3i],[P1i],[P2i]\n",
    "    concs = [H1s,H2s,H3s,P1s,P2s]\n",
    "    #transfer\n",
    "    comps= initial(M,H1i,H2i,H3i,P1i,P2i)\n",
    "    R_true = 0\n",
    "    for R in range(Round):\n",
    "        R_true+=1\n",
    "        if np.sum(comps)>0: #only if a replicator is remaining\n",
    "            if R != 0:\n",
    "                comps = dilution(D,M,comps) #dilution\n",
    "                comps = repartition(Fnumber, comps) #repartition\n",
    "                active_comp_IDs = np.where(np.sum(comps,axis=0)>0)[0] #IDs of compartments containing molecules\n",
    "                comps = np.hstack([comps[:,active_comp_IDs]]) #obtain compartments containing molecules\n",
    "            #replication\n",
    "            for k in range(len(comps[0])):\n",
    "                RNAs = np.hstack([comps[j][k] for j in range(5)])\n",
    "                v =  odeint(replication_five_member, RNAs, t, args=(k1s, k2s, k3s, k4s, k5s, Cn)) #律速\n",
    "                for l in range(5):\n",
    "                    comps[l][k]=int(v[-1][l])\n",
    "            #return vacant compartments\n",
    "            new = M-len(comps[0])\n",
    "            comps = np.hstack([comps,np.zeros(new*5).reshape(5,new)])\n",
    "        for i in range(5):\n",
    "            concs[i].append(np.sum(comps[i])) \n",
    "\n",
    "    np.save('XXX.npy', np.array(concs))"
   ]
  },
  {
   "cell_type": "code",
   "execution_count": 21,
   "metadata": {
    "code_folding": []
   },
   "outputs": [
    {
     "data": {
      "image/png": "[encoded data removed]",
      "text/plain": [
       "<Figure size 288x144 with 1 Axes>"
      ]
     },
     "metadata": {},
     "output_type": "display_data"
    }
   ],
   "source": [
    "#Visualization\n",
    "for k in range(1):\n",
    "    concs = np.load('XXX.npy')\n",
    "    concs2 = concs/M \n",
    "    R= len(concs2[0])-1\n",
    "    sns.set_style('whitegrid')\n",
    "    fig = plt.figure(figsize=(4,2))\n",
    "    ax = fig.add_subplot(1,1,1)\n",
    "    cs= ['mediumseagreen','steelblue','midnightblue','orchid','darkmagenta']\n",
    "    for i in range(5):\n",
    "        ax.plot(np.arange(R+1),concs2[i][:R+1], '-', label=IDs[i],c=cs[i], linewidth = 3)\n",
    "    ax.grid(axis='x')\n",
    "    ax.tick_params(axis='x', labelsize=11), ax.tick_params(axis='y', labelsize=11)\n",
    "    ax.set_yscale('log')\n",
    "    ax.set_xticks([0,20,40,60,80,100])\n",
    "    ax.set_yticks([10**-3,10**-2,10**-1,1,10,100,1000])\n",
    "    ax.set_xlim(0,90), ax.set_ylim(1/1000,)\n",
    "    fig.savefig('XXX', dpi=600, bbox_inches='tight')"
   ]
  },
  {
   "cell_type": "code",
   "execution_count": null,
   "metadata": {},
   "outputs": [],
   "source": []
  },
  {
   "cell_type": "code",
   "execution_count": null,
   "metadata": {},
   "outputs": [],
   "source": []
  }
 ],
 "metadata": {
  "kernelspec": {
   "display_name": "Python 3",
   "language": "python",
   "name": "python3"
  },
  "language_info": {
   "codemirror_mode": {
    "name": "ipython",
    "version": 3
   },
   "file_extension": ".py",
   "mimetype": "text/x-python",
   "name": "python",
   "nbconvert_exporter": "python",
   "pygments_lexer": "ipython3",
   "version": "3.7.4"
  }
 },
 "nbformat": 4,
 "nbformat_minor": 2
}
